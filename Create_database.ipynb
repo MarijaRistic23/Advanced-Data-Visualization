{
 "cells": [
  {
   "cell_type": "code",
   "execution_count": 3,
   "id": "ab877f42-8942-40ec-a0aa-03fd3c7fff42",
   "metadata": {},
   "outputs": [
    {
     "name": "stdout",
     "output_type": "stream",
     "text": [
      "Requirement already satisfied: psycopg2 in c:\\users\\user\\appdata\\local\\programs\\python\\python313\\lib\\site-packages (2.9.10)\n"
     ]
    }
   ],
   "source": [
    "!pip install psycopg2"
   ]
  },
  {
   "cell_type": "code",
   "execution_count": 1,
   "id": "ccd55d8d-c3e6-4ee4-a509-0baf937d3cfa",
   "metadata": {},
   "outputs": [],
   "source": [
    "import psycopg2\n",
    "import pandas as pd\n",
    "from psycopg2 import sql"
   ]
  },
  {
   "cell_type": "code",
   "execution_count": 2,
   "id": "f025dcab-d7ce-4371-8454-0b83cf835bb4",
   "metadata": {},
   "outputs": [],
   "source": [
    "password = \"\"\n",
    "with open('password.txt', 'r') as f:\n",
    "    password = f.readline().strip()\n",
    "#print(password)\n",
    "db_name = \"nyc_taxi_adv\""
   ]
  },
  {
   "cell_type": "code",
   "execution_count": 3,
   "id": "964bcc89-862e-4f8a-8ced-6327e269d3ee",
   "metadata": {},
   "outputs": [],
   "source": [
    "conn = psycopg2.connect(\n",
    "    dbname=\"postgres\", \n",
    "    user=\"postgres\", \n",
    "    password= password, \n",
    "    host=\"localhost\", \n",
    "    port=\"5432\"\n",
    ")\n",
    "\n",
    "cur = conn.cursor()"
   ]
  },
  {
   "cell_type": "code",
   "execution_count": 4,
   "id": "defe4a5f-f8eb-4467-8269-9f233b3b5f4d",
   "metadata": {},
   "outputs": [],
   "source": [
    "conn.autocommit = True\n",
    "#deleting database if exists\n",
    "drop_query = sql.SQL(\"DROP DATABASE IF EXISTS {}\").format(sql.Identifier(db_name))\n",
    "cur.execute(drop_query)"
   ]
  },
  {
   "cell_type": "code",
   "execution_count": 5,
   "id": "56cbf201-3c40-4ed6-bca7-7144f3ab6083",
   "metadata": {},
   "outputs": [],
   "source": [
    "#adding database if exists\n",
    "create_query = sql.SQL(\"CREATE DATABASE {}\").format(sql.Identifier(db_name))\n",
    "cur.execute(create_query)\n",
    "#conn.commit()"
   ]
  },
  {
   "cell_type": "code",
   "execution_count": 6,
   "id": "38d98b25-955e-4307-8b53-f3126726a96f",
   "metadata": {},
   "outputs": [],
   "source": [
    "cur.close()\n",
    "conn.close()"
   ]
  },
  {
   "cell_type": "code",
   "execution_count": 7,
   "id": "41ec6f03-f4ed-44e2-8244-c4720b6d4743",
   "metadata": {},
   "outputs": [],
   "source": [
    "#create table taxi\n",
    "conn = psycopg2.connect(\n",
    "    dbname=db_name, \n",
    "    user=\"postgres\", \n",
    "    password= password, \n",
    "    host=\"localhost\", \n",
    "    port=\"5432\"\n",
    ")\n",
    "\n",
    "cur = conn.cursor()"
   ]
  },
  {
   "cell_type": "code",
   "execution_count": 8,
   "id": "24c32068-7ecc-4502-a5f8-6ff3d32521e5",
   "metadata": {},
   "outputs": [],
   "source": [
    "cur.execute(\"\"\"CREATE TABLE taxi (\n",
    "                    id SERIAL PRIMARY KEY,\n",
    "                    VendorID INT,\n",
    "                    tpep_pickup_datetime TIMESTAMP,\n",
    "                    tpep_dropoff_datetime TIMESTAMP,\n",
    "                    passenger_count INT,\n",
    "                    trip_distance FLOAT,\n",
    "                    pickup_longitude FLOAT,\n",
    "                    pickup_latitude FLOAT,\n",
    "                    RateCodeID INT,\n",
    "                    store_and_fwd_flag BOOLEAN,\n",
    "                    dropoff_longitude FLOAT,\n",
    "                    dropoff_latitude FLOAT,\n",
    "                    payment_type INT,\n",
    "                    fare_amount FLOAT,\n",
    "                    extra FLOAT,\n",
    "                    mta_tax FLOAT,\n",
    "                    tip_amount FLOAT,\n",
    "                    tolls_amount FLOAT,\n",
    "                    improvement_surcharge FLOAT,\n",
    "                    total_amount FLOAT\n",
    ");\"\"\")"
   ]
  },
  {
   "cell_type": "code",
   "execution_count": 9,
   "id": "917c53a5-b00c-4d81-ae85-365a8f0201fd",
   "metadata": {},
   "outputs": [],
   "source": [
    "conn.commit()"
   ]
  },
  {
   "cell_type": "code",
   "execution_count": 10,
   "id": "a11746db-9842-4bf1-ad6d-8803aa4002ca",
   "metadata": {},
   "outputs": [],
   "source": [
    "cur.close()\n",
    "conn.close()"
   ]
  },
  {
   "cell_type": "code",
   "execution_count": 11,
   "id": "b5502234-5969-4930-90f0-4c1dd442ba27",
   "metadata": {},
   "outputs": [],
   "source": [
    "csv_files = [\"./yellow_tripdata_2016-01.csv\", \"./yellow_tripdata_2016-02.csv\", \"./yellow_tripdata_2016-03.csv\"]"
   ]
  },
  {
   "cell_type": "code",
   "execution_count": 13,
   "id": "fd84a538-0e21-4175-b44e-23de7effab88",
   "metadata": {},
   "outputs": [],
   "source": [
    "#load table taxi\n",
    "conn = psycopg2.connect(\n",
    "    dbname=db_name, \n",
    "    user=\"postgres\", \n",
    "    password= password, \n",
    "    host=\"localhost\", \n",
    "    port=\"5432\"\n",
    ")\n",
    "\n",
    "cur = conn.cursor()"
   ]
  },
  {
   "cell_type": "code",
   "execution_count": 14,
   "id": "4858b4ed-5204-4fd7-ba1d-b451be5f8356",
   "metadata": {},
   "outputs": [
    {
     "name": "stdout",
     "output_type": "stream",
     "text": [
      "Učitani podaci iz: ./yellow_tripdata_2016-01.csv\n",
      "Učitani podaci iz: ./yellow_tripdata_2016-02.csv\n",
      "Učitani podaci iz: ./yellow_tripdata_2016-03.csv\n"
     ]
    }
   ],
   "source": [
    "for csv_file in csv_files:\n",
    "    with open(csv_file, 'r', encoding='utf-8') as f:\n",
    "        cur.copy_expert(\"\"\"COPY taxi(VendorID,\n",
    "                                    tpep_pickup_datetime,\n",
    "                                    tpep_dropoff_datetime,\n",
    "                                    passenger_count,\n",
    "                                    trip_distance,\n",
    "                                    pickup_longitude,\n",
    "                                    pickup_latitude,\n",
    "                                    RateCodeID,\n",
    "                                    store_and_fwd_flag,\n",
    "                                    dropoff_longitude,\n",
    "                                    dropoff_latitude,\n",
    "                                    payment_type,\n",
    "                                    fare_amount,\n",
    "                                    extra,\n",
    "                                    mta_tax,\n",
    "                                    tip_amount,\n",
    "                                    tolls_amount,\n",
    "                                    improvement_surcharge,\n",
    "                                    total_amount) \n",
    "                            FROM STDIN WITH CSV HEADER\"\"\", f)\n",
    "    print(f\"Učitani podaci iz: {csv_file}\")\n"
   ]
  },
  {
   "cell_type": "code",
   "execution_count": 17,
   "id": "6146e144-0477-4288-b2e3-1b4bf3a49e82",
   "metadata": {},
   "outputs": [
    {
     "ename": "InterfaceError",
     "evalue": "connection already closed",
     "output_type": "error",
     "traceback": [
      "\u001b[1;31m---------------------------------------------------------------------------\u001b[0m",
      "\u001b[1;31mInterfaceError\u001b[0m                            Traceback (most recent call last)",
      "Cell \u001b[1;32mIn[17], line 1\u001b[0m\n\u001b[1;32m----> 1\u001b[0m \u001b[43mconn\u001b[49m\u001b[38;5;241;43m.\u001b[39;49m\u001b[43mcommit\u001b[49m\u001b[43m(\u001b[49m\u001b[43m)\u001b[49m\n",
      "\u001b[1;31mInterfaceError\u001b[0m: connection already closed"
     ]
    }
   ],
   "source": [
    "conn.commit()"
   ]
  },
  {
   "cell_type": "code",
   "execution_count": 16,
   "id": "abd37f78-0e79-4f49-8359-d90007b6f0a6",
   "metadata": {},
   "outputs": [],
   "source": [
    "cur.close()\n",
    "conn.close()"
   ]
  },
  {
   "cell_type": "code",
   "execution_count": 25,
   "id": "1fd5656d-682a-4485-80a7-a90d28d03bdc",
   "metadata": {},
   "outputs": [],
   "source": [
    "#drop columns from taxi\n",
    "conn = psycopg2.connect(\n",
    "    dbname=db_name, \n",
    "    user=\"postgres\", \n",
    "    password= password, \n",
    "    host=\"localhost\", \n",
    "    port=\"5432\"\n",
    ")\n",
    "\n",
    "cur = conn.cursor()"
   ]
  },
  {
   "cell_type": "code",
   "execution_count": 26,
   "id": "c3f664ce-4912-4284-902b-86b18bcd4a63",
   "metadata": {},
   "outputs": [],
   "source": [
    "cur.execute(\"\"\"ALTER TABLE taxi \n",
    "            DROP COLUMN VendorID,\n",
    "            DROP COLUMN RateCodeID,\n",
    "            DROP COLUMN store_and_fwd_flag,\n",
    "            DROP COLUMN payment_type,\n",
    "            DROP COLUMN fare_amount,\n",
    "            DROP COLUMN extra,\n",
    "            DROP COLUMN mta_tax,\n",
    "            DROP COLUMN tolls_amount,\n",
    "            DROP COLUMN improvement_surcharge;\"\"\")"
   ]
  },
  {
   "cell_type": "code",
   "execution_count": 27,
   "id": "9176528b-2687-44b9-afbc-1adac6d68b94",
   "metadata": {},
   "outputs": [],
   "source": [
    "conn.commit()"
   ]
  },
  {
   "cell_type": "code",
   "execution_count": 28,
   "id": "06bace1f-6a9a-4322-a6fb-f27f464fc2bb",
   "metadata": {},
   "outputs": [],
   "source": [
    "cur.close()\n",
    "conn.close()"
   ]
  },
  {
   "cell_type": "code",
   "execution_count": 29,
   "id": "c1c682ac-4721-4f1b-871d-10ff4cb6b938",
   "metadata": {},
   "outputs": [],
   "source": [
    "#adding postgis ekstenzije\n",
    "conn = psycopg2.connect(\n",
    "    dbname=db_name, \n",
    "    user=\"postgres\", \n",
    "    password= password, \n",
    "    host=\"localhost\", \n",
    "    port=\"5432\"\n",
    ")\n",
    "\n",
    "cur = conn.cursor()"
   ]
  },
  {
   "cell_type": "code",
   "execution_count": 30,
   "id": "cb46a4d9-9918-4950-a32a-b823316184aa",
   "metadata": {},
   "outputs": [],
   "source": [
    "cur.execute(\"CREATE EXTENSION IF NOT EXISTS postgis;\");"
   ]
  },
  {
   "cell_type": "code",
   "execution_count": 31,
   "id": "aef2ddce-9eab-467d-9bdb-7ddcd11b8025",
   "metadata": {},
   "outputs": [],
   "source": [
    "conn.commit()"
   ]
  },
  {
   "cell_type": "code",
   "execution_count": 32,
   "id": "76a55c82-0405-4ad7-b07e-106096e8a9f1",
   "metadata": {},
   "outputs": [],
   "source": [
    "cur.close()\n",
    "conn.close()"
   ]
  },
  {
   "cell_type": "code",
   "execution_count": 33,
   "id": "7ed06fc9-8d89-4659-bd8a-3ac64cb9b2ce",
   "metadata": {},
   "outputs": [],
   "source": [
    "#adding geom columns\n",
    "conn = psycopg2.connect(\n",
    "    dbname=db_name, \n",
    "    user=\"postgres\", \n",
    "    password= password, \n",
    "    host=\"localhost\", \n",
    "    port=\"5432\"\n",
    ")\n",
    "\n",
    "cur = conn.cursor()"
   ]
  },
  {
   "cell_type": "code",
   "execution_count": 34,
   "id": "48331658-9175-4dd0-86ab-4add985119db",
   "metadata": {},
   "outputs": [],
   "source": [
    "cur.execute(\"\"\"\n",
    "    ALTER TABLE taxi\n",
    "    ADD COLUMN geom_pickup GEOMETRY(Point, 4326);\n",
    "\"\"\")"
   ]
  },
  {
   "cell_type": "code",
   "execution_count": 35,
   "id": "386b63cb-0cbf-48ff-8fe6-1eb3166c266d",
   "metadata": {},
   "outputs": [],
   "source": [
    "cur.execute(\"\"\"\n",
    "    ALTER TABLE taxi\n",
    "    ADD COLUMN geom_dropoff GEOMETRY(Point, 4326);\n",
    "\"\"\")"
   ]
  },
  {
   "cell_type": "code",
   "execution_count": 36,
   "id": "38ab8664-e1af-48d3-8fa2-46e1f677a02a",
   "metadata": {},
   "outputs": [],
   "source": [
    "conn.commit()"
   ]
  },
  {
   "cell_type": "code",
   "execution_count": 37,
   "id": "1f1f508c-ef54-40bc-86ba-f80412c840b9",
   "metadata": {},
   "outputs": [],
   "source": [
    "cur.close()\n",
    "conn.close()"
   ]
  },
  {
   "cell_type": "code",
   "execution_count": 38,
   "id": "99ca00de-5745-41b4-83f8-58bedc6b33fe",
   "metadata": {},
   "outputs": [],
   "source": [
    "#load geom columns\n",
    "conn = psycopg2.connect(\n",
    "    dbname=db_name, \n",
    "    user=\"postgres\", \n",
    "    password= password, \n",
    "    host=\"localhost\", \n",
    "    port=\"5432\"\n",
    ")\n",
    "\n",
    "cur = conn.cursor()"
   ]
  },
  {
   "cell_type": "code",
   "execution_count": 39,
   "id": "92db02af-1637-4078-8279-b9d9bc57ebc3",
   "metadata": {},
   "outputs": [],
   "source": [
    "cur.execute(\"\"\"\n",
    "    UPDATE taxi\n",
    "    SET geom_pickup = ST_SetSRID(ST_MakePoint(pickup_longitude, pickup_latitude), 4326);\n",
    "\"\"\")"
   ]
  },
  {
   "cell_type": "code",
   "execution_count": 40,
   "id": "3b0c92bb-730f-472c-8eae-0060886a182f",
   "metadata": {},
   "outputs": [],
   "source": [
    "conn.commit()"
   ]
  },
  {
   "cell_type": "code",
   "execution_count": 41,
   "id": "59a18ce4-c088-44cb-aa5a-c9332b53514b",
   "metadata": {},
   "outputs": [],
   "source": [
    "cur.execute(\"\"\"\n",
    "    UPDATE taxi\n",
    "    SET geom_dropoff = ST_SetSRID(ST_MakePoint(dropoff_longitude, dropoff_latitude), 4326);\n",
    "\"\"\")"
   ]
  },
  {
   "cell_type": "code",
   "execution_count": 42,
   "id": "3a7c4ef9-2dbd-4295-a454-82d5adbdfd98",
   "metadata": {},
   "outputs": [],
   "source": [
    "conn.commit()"
   ]
  },
  {
   "cell_type": "code",
   "execution_count": 43,
   "id": "ab3e71bd-423f-467c-bcae-83c54da189eb",
   "metadata": {},
   "outputs": [],
   "source": [
    "cur.close()\n",
    "conn.close()"
   ]
  },
  {
   "cell_type": "code",
   "execution_count": 49,
   "id": "c675ff3c-95c9-4335-a159-feb7ae35e42f",
   "metadata": {},
   "outputs": [],
   "source": [
    "#create index\n",
    "conn = psycopg2.connect(\n",
    "    dbname=db_name, \n",
    "    user=\"postgres\", \n",
    "    password= password, \n",
    "    host=\"localhost\", \n",
    "    port=\"5432\"\n",
    ")\n",
    "\n",
    "cur = conn.cursor()"
   ]
  },
  {
   "cell_type": "code",
   "execution_count": 50,
   "id": "49bc55a7-6f31-44d8-8a38-078825bfbebd",
   "metadata": {},
   "outputs": [],
   "source": [
    "cur.execute(\"\"\"\n",
    "    CREATE INDEX geom_pickup_idx ON taxi USING GIST (geom_pickup);\n",
    "\"\"\")"
   ]
  },
  {
   "cell_type": "code",
   "execution_count": 51,
   "id": "644acc0a-ca75-4cc2-b593-f70e6ea4ebb4",
   "metadata": {},
   "outputs": [],
   "source": [
    "cur.execute(\"\"\"\n",
    "    CREATE INDEX geom_dropoff_idx ON taxi USING GIST (geom_dropoff);\n",
    "\"\"\")"
   ]
  },
  {
   "cell_type": "code",
   "execution_count": 52,
   "id": "ead091bc-6320-4649-9b86-eb0fffc43a74",
   "metadata": {},
   "outputs": [],
   "source": [
    "conn.commit()"
   ]
  },
  {
   "cell_type": "code",
   "execution_count": 53,
   "id": "e3212ffd-c6f4-4db7-a431-831f8f0a68b5",
   "metadata": {},
   "outputs": [],
   "source": [
    "cur.close()\n",
    "conn.close()"
   ]
  },
  {
   "cell_type": "code",
   "execution_count": 55,
   "id": "f963dfe1-1c0f-4277-b413-f4982353364b",
   "metadata": {},
   "outputs": [],
   "source": [
    "#create .shp "
   ]
  },
  {
   "cell_type": "code",
   "execution_count": 56,
   "id": "333a8669-d335-490f-bcda-2a2f3c2a960a",
   "metadata": {},
   "outputs": [],
   "source": [
    "#shp_file = \"./taxi_zones/taxi_zones.shp\""
   ]
  },
  {
   "cell_type": "code",
   "execution_count": 63,
   "id": "6a78bf5a-c43f-4edd-bf16-d099599daa2f",
   "metadata": {},
   "outputs": [],
   "source": [
    "f\"shp2pgsql -I -s 4326 -c {shp_file} public.taxi_zones | psql -U postgres -d {db_name}\""
   ]
  },
  {
   "cell_type": "code",
   "execution_count": null,
   "id": "70bf5404-033b-4515-b371-787a5993fef4",
   "metadata": {},
   "outputs": [],
   "source": [
    "#\"C:\\Program Files\\PostgreSQL\\17\\bin\\shp2pgsql.exe\" -I -s 2263 -c \"C:\\Users\\User\\Desktop\\ADV\\taxi_zones\\taxi_zones.shp\" public.taxi_zones | \"C:\\Program Files\\PostgreSQL\\17\\bin\\psql.exe\" -U postgres -d nyc_taxi_adv\n"
   ]
  },
  {
   "cell_type": "code",
   "execution_count": 3,
   "id": "79965047-e5a5-4e9e-9259-62b6b94c23cd",
   "metadata": {},
   "outputs": [],
   "source": [
    "#create indexies tpep_pickup_datetime\n",
    "conn = psycopg2.connect(\n",
    "    dbname=db_name, \n",
    "    user=\"postgres\", \n",
    "    password= password, \n",
    "    host=\"localhost\", \n",
    "    port=\"5432\"\n",
    ")\n",
    "\n",
    "cur = conn.cursor()"
   ]
  },
  {
   "cell_type": "code",
   "execution_count": 4,
   "id": "5fc56edb-0a8e-47fe-bd94-3f191cbdf682",
   "metadata": {},
   "outputs": [],
   "source": [
    "cur.execute(\"\"\"\n",
    "    CREATE INDEX tpep_pickup_datetime_idx ON taxi (tpep_pickup_datetime);\n",
    "\"\"\")"
   ]
  },
  {
   "cell_type": "code",
   "execution_count": 5,
   "id": "2e7bcde5-b6bc-462e-8b19-e68bd870ddbc",
   "metadata": {},
   "outputs": [],
   "source": [
    "conn.commit()"
   ]
  },
  {
   "cell_type": "code",
   "execution_count": 6,
   "id": "275fe886-f612-4211-bb29-ab41c3b87cb1",
   "metadata": {},
   "outputs": [],
   "source": [
    "cur.close()\n",
    "conn.close()"
   ]
  },
  {
   "cell_type": "code",
   "execution_count": null,
   "id": "0fa1b572-8c2c-4829-942d-bdbcea9b3e91",
   "metadata": {},
   "outputs": [],
   "source": [
    "#create table events\n",
    "#conn = psycopg2.connect(\n",
    "#    dbname=db_name, \n",
    "#    user=\"postgres\", \n",
    "#    password= password, \n",
    "#    host=\"localhost\", \n",
    "#    port=\"5432\"\n",
    "#)\n",
    "#\n",
    "#cur = conn.cursor()"
   ]
  },
  {
   "cell_type": "code",
   "execution_count": null,
   "id": "b816acf8-ec48-4099-be9c-c5196fff756e",
   "metadata": {},
   "outputs": [],
   "source": [
    "#cur.execute(\"\"\"CREATE TABLE event (\n",
    "#                    id SERIAL PRIMARY KEY,\n",
    "#                    date DATE NOT NULL,\n",
    "#                    artist VARCHAR(512),\n",
    "#                    venue VARCHAR(512),\n",
    "#                    start_time TIME,\n",
    "#                    end_time TIME\n",
    "#);\"\"\")"
   ]
  },
  {
   "cell_type": "code",
   "execution_count": null,
   "id": "0834975e-8269-4c3a-858e-dc51457a7d99",
   "metadata": {},
   "outputs": [],
   "source": [
    "#conn.commit()"
   ]
  },
  {
   "cell_type": "code",
   "execution_count": null,
   "id": "f750743d-ac2a-4951-8ff3-ee117aeec59d",
   "metadata": {},
   "outputs": [],
   "source": [
    "#cur.close()\n",
    "#conn.close()"
   ]
  },
  {
   "cell_type": "code",
   "execution_count": null,
   "id": "fb43c3a3-c1c5-42be-903c-232733dad675",
   "metadata": {},
   "outputs": [],
   "source": [
    "#load table events\n",
    "#conn = psycopg2.connect(\n",
    "#    dbname=db_name, \n",
    "#    user=\"postgres\", \n",
    "#    password= password, \n",
    "#    host=\"localhost\", \n",
    "#    port=\"5432\"\n",
    "#)\n",
    "#\n",
    "#cur = conn.cursor()"
   ]
  },
  {
   "cell_type": "code",
   "execution_count": null,
   "id": "1a36bdac-9eba-401d-8e08-8c3cb283bfb6",
   "metadata": {},
   "outputs": [],
   "source": [
    "#csv_file = \"./events.csv\"\n",
    "#with open(csv_file, 'r', encoding='utf-8') as f:\n",
    "#    cur.copy_expert(\"\"\"COPY taxi(date, artist, venue, start_time, end_time) \n",
    "#                        FROM STDIN WITH CSV HEADER\"\"\", f)\n",
    "#print(f\"Učitani podaci iz: {csv_file}\")"
   ]
  },
  {
   "cell_type": "code",
   "execution_count": null,
   "id": "dcc5762c-982c-4d0e-bd5e-ab3d315cc173",
   "metadata": {},
   "outputs": [],
   "source": [
    "#conn.commit()"
   ]
  },
  {
   "cell_type": "code",
   "execution_count": null,
   "id": "230cae85-72ea-4c06-967d-48523750e7b3",
   "metadata": {},
   "outputs": [],
   "source": [
    "#cur.close()\n",
    "#conn.close()"
   ]
  }
 ],
 "metadata": {
  "kernelspec": {
   "display_name": "Python 3 (ipykernel)",
   "language": "python",
   "name": "python3"
  },
  "language_info": {
   "codemirror_mode": {
    "name": "ipython",
    "version": 3
   },
   "file_extension": ".py",
   "mimetype": "text/x-python",
   "name": "python",
   "nbconvert_exporter": "python",
   "pygments_lexer": "ipython3",
   "version": "3.13.2"
  }
 },
 "nbformat": 4,
 "nbformat_minor": 5
}
